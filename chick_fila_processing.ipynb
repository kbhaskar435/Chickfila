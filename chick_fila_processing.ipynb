{
 "cells": [
  {
   "cell_type": "code",
   "execution_count": 1,
   "metadata": {},
   "outputs": [],
   "source": [
    "### Necessary Libraries\n",
    "# from msilib.schema import File\n",
    "import pandas as pd, unicodedata\n",
    "import string as strlab\n",
    "import random, itertools\n",
    "import os    \n",
    "from csv import DictWriter\n",
    "from datetime import date\n",
    "import psycopg2\n",
    "import numpy as np\n",
    "from sqlalchemy import create_engine\n",
    "import re \n",
    "import sys\n",
    "import datetime"
   ]
  },
  {
   "cell_type": "markdown",
   "metadata": {},
   "source": [
    "## Functions"
   ]
  },
  {
   "cell_type": "code",
   "execution_count": 2,
   "metadata": {},
   "outputs": [],
   "source": [
    "#### Get the connection details #######################\n",
    "def get_db_creds(dbname='pricedbprod',user='nextorbitprod',password='5ASyeJGXpjFFRA8k6xkj'):\n",
    "    # Connect to the database\n",
    "    host = \"pricedbprod.c6efngmeow34.ap-south-1.rds.amazonaws.com\"\n",
    "    port = \"5432\"\n",
    "    engine = create_engine(f\"postgresql://{user}:{password}@{host}:{port}/{dbname}\")\n",
    "    conn = psycopg2.connect(database=dbname, user=user, password=password, host=host, port=port)\n",
    "    return conn,engine\n",
    "####### Get the Data from schema ##########################\n",
    "def get_tabledata(schema,tablename,conn):\n",
    "    query = f'SELECT * FROM {schema}.\"{tablename}\"'\n",
    "    table = pd.read_sql_query(query,conn)\n",
    "    return table\n",
    "########## Preprocessing the product Name ########################\n",
    "def strip_accents(s):\n",
    "    return ''.join(c for c in unicodedata.normalize('NFD', s) if unicodedata.category(c) != 'Mn')\n",
    "def clean(string_word):\n",
    "    if string_word:\n",
    "        string_word = str(string_word)\n",
    "        string_word = strip_accents(string_word)\n",
    "        string_word = re.sub(r\"[^ A-Za-z .:%0-9&-,-$']+\", '', string_word)\n",
    "        string_word = re.sub(' +', ' ', string_word)\n",
    "        string_word = string_word.strip(' ')\n",
    "        string_word = strlab.capwords(string_word)\n",
    "        string_word = string_word.replace('1% ','')\n",
    "        string_word = string_word.replace('supsup','')\n",
    "\n",
    "        return string_word"
   ]
  },
  {
   "cell_type": "markdown",
   "metadata": {},
   "source": [
    "## Location Master"
   ]
  },
  {
   "cell_type": "code",
   "execution_count": 272,
   "metadata": {},
   "outputs": [],
   "source": [
    "conn,engine = get_db_creds()\n",
    "Location_Data =get_tabledata(schema='restaurants',tablename='Chickfila_Location_13Apr',conn=conn)\n",
    "Location_Data['brand_id']=113\n",
    "Location_Data.drop(columns=['DineIn','Delivery','CarryOut','location_name','restaurant_schedules'],inplace=True)\n",
    "Location_Data.rename(columns={'State':'state','DriveThru':'drivethru','CurbsidePickup':'curbsidepickup','scraped_date':'open_date'},inplace=True)\n",
    "location_master = get_tabledata(schema='consolidated',tablename='location_master_20220330',conn=conn)\n",
    "location_master = location_master[location_master['brand_id']!=113]\n",
    "concept_master = get_tabledata(schema='consolidated',tablename='concept_master_20220330',conn=conn)\n",
    "brand_master = get_tabledata(schema='consolidated',tablename='brand_master_20220330',conn=conn)\n",
    "Location_Data = pd.merge(Location_Data,brand_master[['brand_id','brand_name']],on='brand_id')\n",
    "Location_Data = pd.merge(Location_Data,concept_master[['brand_id','concept_name','concept_id']],on='brand_id')\n",
    "Location_Data['rooftop_id']=range(max(location_master['rooftop_id'])+1,max(location_master['rooftop_id'])+1+len(Location_Data))"
   ]
  },
  {
   "cell_type": "code",
   "execution_count": 273,
   "metadata": {},
   "outputs": [],
   "source": [
    "location_master = pd.concat([location_master,Location_Data])\n",
    "location_master.to_sql('location_master_20220414',con=engine,schema='consolidated',if_exists='append',index=False) "
   ]
  },
  {
   "cell_type": "markdown",
   "metadata": {},
   "source": [
    "## Menu Data"
   ]
  },
  {
   "cell_type": "markdown",
   "metadata": {},
   "source": [
    "### Processing Menu Data\n"
   ]
  },
  {
   "cell_type": "code",
   "execution_count": 3,
   "metadata": {},
   "outputs": [],
   "source": [
    "conn,engine = get_db_creds()\n",
    "add_on_data =  get_tabledata(schema='restaurants',tablename='Chickfila_Addons_13Apr',conn=conn)\n",
    "\n",
    "menu_data = get_tabledata(schema='restaurants',tablename='Chickfila_Menus_13Apr',conn=conn)\n",
    "menu_data = menu_data.drop_duplicates()\n",
    "menu_data['brand_id']=113\n",
    "menu_data['product_name']= menu_data['product_name'].apply(lambda x : clean(x))\n",
    "menu_data= menu_data[~menu_data['product_name'].isin(['Gluten Free Bun'])]"
   ]
  },
  {
   "cell_type": "markdown",
   "metadata": {},
   "source": [
    "### Processing Add on Data"
   ]
  },
  {
   "cell_type": "code",
   "execution_count": 4,
   "metadata": {},
   "outputs": [],
   "source": [
    "add_on_data =  get_tabledata(schema='restaurants',tablename='Chickfila_Addons_13Apr',conn=conn)\n",
    "add_on_data_1 = add_on_data[['source_id','base','base_price']].drop_duplicates()\n",
    "add_on_data_1.rename(columns={'base':'product_name','base_price':'price'},inplace=True)\n",
    "add_on_data_2=add_on_data[['source_id','add_on_name','price']].drop_duplicates()\n",
    "add_on_data_2.rename(columns={'add_on_name':'product_name'},inplace=True)\n",
    "add_on_data = pd.concat([add_on_data_1,add_on_data_2])\n",
    "add_on_data['brand_id']=113\n",
    "add_on_data['product_name']=add_on_data['product_name'].apply(lambda x :clean(x))\n",
    "add_on_data['category_name']='Add on'"
   ]
  },
  {
   "cell_type": "markdown",
   "metadata": {},
   "source": [
    "### Extracting Columns from Brand,Location"
   ]
  },
  {
   "cell_type": "code",
   "execution_count": 228,
   "metadata": {},
   "outputs": [],
   "source": [
    "menu_data = menu_data[menu_data['price']>0]\n",
    "add_on_data = add_on_data[add_on_data['price']>0]\n",
    "menu_data = pd.concat([menu_data,add_on_data])\n",
    "brand_master = get_tabledata(schema='consolidated',tablename='brand_master_20220330',conn=conn)\n",
    "location_master = get_tabledata(schema='consolidated',tablename='location_master_20220330',conn=conn)\n",
    "concept_master = get_tabledata(schema='consolidated',tablename='concept_master_20220330',conn=conn)\n",
    "menu_data['source_id']=menu_data['source_id'].astype(str)\n",
    "menu_data = pd.merge(menu_data,brand_master[['brand_id','brand_name']],on='brand_id')\n",
    "menu_data = pd.merge(menu_data,location_master[['source_id','rooftop_id']],on='source_id')\n",
    "menu_data = pd.merge(menu_data,concept_master[['brand_id','concept_name','concept_id']],on='brand_id')\n"
   ]
  },
  {
   "cell_type": "code",
   "execution_count": 229,
   "metadata": {},
   "outputs": [],
   "source": [
    "price_data =menu_data[['source_id','brand_id','brand_name','rooftop_id','category_name','product_name','product_name_cleaned','pc_count','size','description','concept_id','concept_name','price','product_image']].drop_duplicates()\n",
    "product_counts = price_data.groupby(['product_name']).agg({'source_id':'nunique'}).reset_index().rename(columns={'source_id':'Location_Count'})"
   ]
  },
  {
   "cell_type": "markdown",
   "metadata": {},
   "source": [
    "## Processing on Product Master"
   ]
  },
  {
   "cell_type": "code",
   "execution_count": 230,
   "metadata": {},
   "outputs": [],
   "source": [
    "product_data = price_data[['brand_id','brand_name','category_name','product_name','product_name_cleaned','pc_count','description','concept_id','concept_name','price','product_image']].drop_duplicates(subset=['product_name'],keep='first')\n",
    "\n",
    "product_data = pd.merge(product_data,product_counts,on='product_name')\n",
    "product_data['display_name']=product_data['product_name']\n",
    "display_map ={**dict.fromkeys(['Small 12 Lemonade 12 Diet Lemonade','Small Hi-c Fruit Punch','Small 12 Sweet Tea 12 Unsweet Tea',\"Small Barq's Root Beer\",'Small Chick-fil-a Diet Lemonade','Small Chick-fil-a Lemonade','Small Coca-cola','Small Coca-cola Cherry','Small Coke Zero Sugar','Small Diet Coke','Small Diet Dr Pepper','Small Dr Pepper','Small Freshly-brewed Iced Tea Sweetened','Small Freshly-brewed Iced Tea Unsweetened','Small Mello Yello','Small Powerade','Small Sprite','Small Sunjoy (12 Sweet Tea, 12 Diet Lemonade)','Small Sunjoy (12 Sweet Tea, 12 Lemonade)','Small Sunjoy (12 Unsweet Tea, 12 Diet Lemonade)','Small Sunjoy (12 Unsweet Tea, 12 Lemonade)'],'Fountain Drink Small'),\n",
    "**dict.fromkeys(['Medium 12 Lemonade 12 Diet Lemonade','Medium Hi-c Fruit Punch','Medium 12 Sweet Tea 12 Unsweet Tea',\"Medium Barq's Root Beer\",'Medium Chick-fil-a Diet Lemonade','Medium Chick-fil-a Lemonade','Medium Coca-cola','Medium Coca-cola Cherry','Medium Coke Zero Sugar','Medium Diet Coke','Medium Diet Dr Pepper','Medium Dr Pepper','Medium Freshly-brewed Iced Tea Sweetened','Medium Freshly-brewed Iced Tea Unsweetened','Medium Mello Yello','Medium Powerade','Medium Sprite','Medium Sunjoy (12 Sweet Tea, 12 Diet Lemonade)','Medium Sunjoy (12 Sweet Tea, 12 Lemonade)','Medium Sunjoy (12 Unsweet Tea, 12 Diet Lemonade)','Medium Sunjoy (12 Unsweet Tea, 12 Lemonade)'],'Fountain Drink Medium'),\n",
    "**dict.fromkeys(['Large 12 Lemonade 12 Diet Lemonade','Large Hi-c Fruit Punch','Large 12 Sweet Tea 12 Unsweet Tea',\"Large Barq's Root Beer\",'Large Chick-fil-a Diet Lemonade','Large Chick-fil-a Lemonade','Large Coca-cola','Large Coca-cola Cherry','Large Coke Zero Sugar','Large Diet Coke','Large Diet Dr Pepper','Large Dr Pepper','Large Freshly-brewed Iced Tea Sweetened','Large Freshly-brewed Iced Tea Unsweetened','Large Mello Yello','Large Powerade','Large Sprite','Large Sunjoy (12 Sweet Tea, 12 Diet Lemonade)','Large Sunjoy (12 Sweet Tea, 12 Lemonade)','Large Sunjoy (12 Unsweet Tea, 12 Diet Lemonade)','Large Sunjoy (12 Unsweet Tea, 12 Lemonade)'],'Fountain Drink Large'),\n",
    "**dict.fromkeys([\"Small Chick-fil-a Waffle Potato Fries\"],'Small Potato Fries'),\n",
    "**dict.fromkeys([\"Large Chick-fil-a Waffle Potato Fries\"],'Large Potato Fries'),\n",
    "**dict.fromkeys([\"Medium Chick-fil-a Waffle Potato Fries\"],'Medium Potato Fries'),\n",
    "**dict.fromkeys([\"White Bun (unbuttered)\",'White Bun (buttered)'],'White Bun')\n",
    "}\n"
   ]
  },
  {
   "cell_type": "code",
   "execution_count": 231,
   "metadata": {},
   "outputs": [],
   "source": [
    "product_data['display_name'] = product_data['display_name'].apply(lambda x: display_map[x] if x in display_map.keys() else x)\n",
    "product_data['min_calories']=''\n",
    "product_data['max_calories']=''\n",
    "product_data['date_modified']=pd.to_datetime('2022-04-14')\n",
    "product_data['product_id']= range(113100001,113100001+(len(product_data)))\n",
    "product_data['date_added']=pd.to_datetime('2022-04-14')\n",
    "product_data['oz_size']=''\n",
    "sort_index ={1:'Meals',2:'Entrees',3:'Sides',4:'Beverages',5:'Salads',6:'Build Your Own Family Meal',7:'Treats',8:\"Kid's Meals\",9:'8oz Sauces',10:'Add on'}\n",
    "sort_index = dict([(value, key) for key, value in sort_index.items()])\n",
    "product_data['rank']=product_data['category_name'].apply(lambda x : sort_index[x])\n",
    "product_data = product_data.sort_values('rank',ascending=True)\n",
    "product_data.drop(columns=['rank'],inplace=True)\n",
    "product_data['menu_position']=range(1,len(product_data)+1)\n"
   ]
  },
  {
   "cell_type": "code",
   "execution_count": 232,
   "metadata": {},
   "outputs": [],
   "source": [
    "product_data.rename(columns={'category_name':'brand_category_name','product_name':'brand_product_name','description':'brand_description'},inplace=True)\n",
    "product_data=product_data[['menu_position','brand_category_name','brand_product_name','brand_description','product_name_cleaned','brand_id','date_added','date_modified','product_id','brand_name','display_name','min_calories','max_calories','pc_count','concept_id','concept_name','oz_size','price','product_image','Location_Count']]\n",
    "#product_data = product_data.sort_values('menu_position',ascending=True)"
   ]
  },
  {
   "cell_type": "code",
   "execution_count": 233,
   "metadata": {},
   "outputs": [],
   "source": [
    "product_data.to_csv('D:\\\\NextOrbit\\\\Projects\\\\ETL\\\\Chickfila-1\\\\chickfila_product_master.csv',index=False)"
   ]
  }
 ],
 "metadata": {
  "interpreter": {
   "hash": "b577d89103acd817a8be97db090b23cbc01b068246437e3c05111b099a6a1648"
  },
  "kernelspec": {
   "display_name": "Python 3.9.8 64-bit",
   "language": "python",
   "name": "python3"
  },
  "language_info": {
   "codemirror_mode": {
    "name": "ipython",
    "version": 3
   },
   "file_extension": ".py",
   "mimetype": "text/x-python",
   "name": "python",
   "nbconvert_exporter": "python",
   "pygments_lexer": "ipython3",
   "version": "3.9.8"
  },
  "orig_nbformat": 4
 },
 "nbformat": 4,
 "nbformat_minor": 2
}
